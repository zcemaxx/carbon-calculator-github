{
 "cells": [
  {
   "cell_type": "code",
   "execution_count": 134,
   "id": "fbd50af2-a955-4fc7-9850-54613b8a8593",
   "metadata": {},
   "outputs": [],
   "source": [
    "# Carbon Calculator"
   ]
  },
  {
   "cell_type": "code",
   "execution_count": 65,
   "id": "d4c0dc03-8dae-4357-9f7a-86329084d91d",
   "metadata": {},
   "outputs": [],
   "source": [
    "import pandas as pd\n",
    "import numpy as np"
   ]
  },
  {
   "cell_type": "code",
   "execution_count": 5,
   "id": "4eea60c8-a6c0-48cd-8ba0-37b084b19f66",
   "metadata": {},
   "outputs": [
    {
     "name": "stdin",
     "output_type": "stream",
     "text": [
      "Enter the cement type:  opc\n"
     ]
    }
   ],
   "source": [
    "# Confirm the cement type\n",
    "cement_type = input(\"Enter the cement type: \")\n",
    "\n",
    "# Pre-set: Calculate limestone required for 1 tonne cement\n",
    "cement_unit_mass = 1"
   ]
  },
  {
   "cell_type": "code",
   "execution_count": 7,
   "id": "d3358442-2bdb-475a-a473-b64c9beb703e",
   "metadata": {},
   "outputs": [],
   "source": [
    "# a general formula to calculate emissions from emission factors of fossil fuel or electricity energy mix\n",
    "def combustion_emission (fuel, emission_factor):\n",
    "    return fuel * emission_factor\n",
    "\n",
    "def power_emission(energy_mix, emission_energy_mix):\n",
    "    return energy_mix * emission_energy_mix"
   ]
  },
  {
   "cell_type": "code",
   "execution_count": 9,
   "id": "7c27ffed-0c77-494c-be2e-5863c58ea110",
   "metadata": {},
   "outputs": [],
   "source": [
    "# A1 emission: CO2 emission from raw material supply\n",
    "# A2 emission: CO2 from transport\n",
    "# A3 emission: CO2 from manufacturing\n",
    "\n",
    "# A1 stage contains 1) Quarrying raw materials, 2) Crushing, 3) Preparing raw meal\n",
    "# A2 stage transport\n",
    "# A3 stage contains 1) fuel combustion, 2) chemical reaction\n",
    "\n",
    "def a1_emission(extraction, explosives, crushing):\n",
    "    return extraction + explosives + crushing\n"
   ]
  },
  {
   "cell_type": "code",
   "execution_count": 11,
   "id": "6e717ec1-452d-41b7-a11a-c79059f068fc",
   "metadata": {},
   "outputs": [
    {
     "name": "stdin",
     "output_type": "stream",
     "text": [
      "Enter the clinker in cement (%):  90\n"
     ]
    },
    {
     "name": "stdout",
     "output_type": "stream",
     "text": [
      "                                               type 1  Cao weight\n",
      "tricalcium silicate 3CaO.SiO2                      50        0.74\n",
      "dicalcium silicate 2CaO.SiO2                       25        0.65\n",
      "tricalcium aluminate 3CaO.Al2O3                    10        0.62\n",
      "tetracalcium alumniorferrite 3CaO.Al2O3.Fe2O3      10        0.39\n",
      "Gypsum                                              5        0.00\n",
      "CaO weights in clinker 63.35%.\n"
     ]
    },
    {
     "name": "stdin",
     "output_type": "stream",
     "text": [
      "Enter the mineral purity (%):  90\n"
     ]
    },
    {
     "name": "stdout",
     "output_type": "stream",
     "text": [
      "Limestone required to produce 1 tonne cement: 1.13 tonne.\n"
     ]
    }
   ],
   "source": [
    "# A1.1 Quarrying and A1.2 Crushing\n",
    "\n",
    "clinker_in_cement = float(input(\"Enter the clinker in cement (%): \"))\n",
    "# clinker major components\n",
    "clinker_components = [\"tricalcium silicate 3CaO.SiO2\", \n",
    "                      \"dicalcium silicate 2CaO.SiO2\", \n",
    "                      \"tricalcium aluminate 3CaO.Al2O3\", \n",
    "                      \"tetracalcium alumniorferrite 3CaO.Al2O3.Fe2O3\", \n",
    "                      \"Gypsum\"\n",
    "                     ]\n",
    "\n",
    "# give first type of clinker's components weights\n",
    "type_1 = [50,25,10,10,5]\n",
    "clinker_components = pd.DataFrame({\"type 1\":type_1}, index=clinker_components)\n",
    "\n",
    "# give CaO weights in each component\n",
    "CaO_in_component = [(56*3/228),(56*2/172),(56*3/270),(56*3/429.64),0]\n",
    "clinker_components.insert(1,\"Cao weight\",CaO_in_component)\n",
    "clinker_components[\"Cao weight\"]=clinker_components[\"Cao weight\"].round(2)\n",
    "print (clinker_components)\n",
    "\n",
    "# calculate CaO weight in clinker\n",
    "CaO_in_clinker = (clinker_components[\"type 1\"] * clinker_components[\"Cao weight\"]).sum()\n",
    "print(\"CaO weights in clinker {:.2%}.\". format(CaO_in_clinker/100))\n",
    "\n",
    "CaCO3_CaO_ratio = 1.785  # (stoichiometric ratio, as 100/56)\n",
    "CaCO3_required = cement_unit_mass * clinker_in_cement/100 * CaO_in_clinker/100 * CaCO3_CaO_ratio # unit in tonne\n",
    "mineral_purity = float(input(\"Enter the mineral purity (%): \"))\n",
    "limestone_required = float(CaCO3_required / (mineral_purity/100))\n",
    "print(\"Limestone required to produce 1 tonne cement: {:.2f} tonne.\". format(limestone_required))"
   ]
  },
  {
   "cell_type": "code",
   "execution_count": 17,
   "id": "249565e1-497b-449f-9479-5427fd899ecd",
   "metadata": {},
   "outputs": [
    {
     "name": "stdin",
     "output_type": "stream",
     "text": [
      "Enter the crusher capacity (t/hr):  600\n",
      "Enter the crusher power (KW):  220\n",
      "Enter the crusher capacity (t/hr):  400\n",
      "Enter the crusher power (KW):  150\n"
     ]
    },
    {
     "name": "stdout",
     "output_type": "stream",
     "text": [
      "Total energy to crush limestone per 1 tonne cement produced: 0.839 KWh.\n"
     ]
    }
   ],
   "source": [
    "# Calculate energy consumed to run crusher \n",
    "# Step 1 - jaw crusher - primary crusher used to break large limestone blocks into smaller pieces\n",
    "# reference jaw crusher is 600t/hr, 220kW \n",
    "# https://www.mining-rockcrusher.com/sale-15458633-92000kgs-heavy-duty-jaw-crusher-machine-granite-limestone-crushing.html\n",
    "crusher_capacity_1 = float(input(\"Enter the crusher capacity (t/hr): \"))\n",
    "#time_crushing_1_tonne = float(1/crusher_capacity)  # (unit in hrs)\n",
    "crusher_power_1 = float(input(\"Enter the crusher power (KW): \"))\n",
    "\n",
    "# Step 2 - Impact crusher / hammer crusher - secondary crushing produces sand-like particles\n",
    "# reference jaw crusher is 600t/hr, 220kW\n",
    "crusher_capacity_2 = float(input(\"Enter the crusher capacity (t/hr): \"))\n",
    "crusher_power_2 = float(input(\"Enter the crusher power (KW): \"))\n",
    "\n",
    "def energy_crushing (crusher_capacity,crusher_power):\n",
    "    return (1/crusher_capacity) * crusher_power  # (unit in KWh)\n",
    "\n",
    "Jaw_crusher_energy = energy_crushing (crusher_capacity_1,crusher_power_1)\n",
    "hammer_crusher_energy = energy_crushing (crusher_capacity_2,crusher_power_2)\n",
    "energy_crushing_1_tonne = Jaw_crusher_energy + hammer_crusher_energy\n",
    "\n",
    "total_energy_crushing = limestone_required * energy_crushing_1_tonne\n",
    "print(\"Total energy to crush limestone per 1 tonne cement produced: {:.3f} KWh.\".format(total_energy_crushing))"
   ]
  },
  {
   "cell_type": "code",
   "execution_count": 19,
   "id": "2c552b41-5cbc-4000-8aea-ad26b3040432",
   "metadata": {},
   "outputs": [
    {
     "name": "stdout",
     "output_type": "stream",
     "text": [
      "               Coal  Natural Gas  Nuclear  Renewables  Other\n",
      "UK (%)        5.900       33.300     16.2        42.1  2.500\n",
      "CO2 (kg/KWh)  0.919        0.382      0.0         0.0  0.948\n",
      "Average CO2 emission from UK grid: 0.20513 kg CO2eq./KWh.\n"
     ]
    }
   ],
   "source": [
    "# define a dataframe for fuel mix in grid network and emission intensity\n",
    "fuel_mix = pd.DataFrame(columns=[\"Coal\",\"Natural Gas\",\"Nuclear\",\"Renewables\",\"Other\"])\n",
    "\n",
    "# Input one row representing fuel mix at that location\n",
    "# UK grid energy sources with CO2 emission from fuel mix \n",
    "# UK Reference: https://www.gov.uk/government/publications/fuel-mix-disclosure-data-table/fuel-mix-disclosure-data-table#fn:1\n",
    "UK_fuel_mix = [5.9, 33.3, 16.2, 42.1, 2.5] # (total 100%)\n",
    "UK_CO2_intensity_from_fuel_mix = [0.919,0.382,0,0,0.948] # (in kg/KWh)\n",
    "fuel_mix.loc[\"UK (%)\"] = UK_fuel_mix\n",
    "fuel_mix.loc[\"CO2 (kg/KWh)\"] = UK_CO2_intensity_from_fuel_mix\n",
    "print (fuel_mix)\n",
    "\n",
    "# Average CO2 emission from UK grid mix = Grid mix × CO2 emission from energy mix\n",
    "UK_average_CO2_fuel_mix = ((fuel_mix.loc[\"UK (%)\"]/100) * fuel_mix.loc[\"CO2 (kg/KWh)\"]).sum()  # CO2 emission per 1KWh energy\n",
    "print(\"Average CO2 emission from UK grid: {:.5f} kg CO2eq./KWh.\".format(UK_average_CO2_fuel_mix))"
   ]
  },
  {
   "cell_type": "code",
   "execution_count": 21,
   "id": "8f65bd62-df32-4c30-a3da-86bb54201e47",
   "metadata": {},
   "outputs": [
    {
     "name": "stdout",
     "output_type": "stream",
     "text": [
      "CO2 emission from crushing limestone per 1 tonne cement produced: 0.17 kg CO2eq.\n"
     ]
    }
   ],
   "source": [
    "# Calculate CO2 emission for crushing limestone per 1 tonne cement produced\n",
    "\n",
    "# Calculate CO2 emission from crushing limestone\n",
    "CO2_emission_crushing_limestone = UK_average_CO2_fuel_mix * total_energy_crushing\n",
    "print(\"CO2 emission from crushing limestone per 1 tonne cement produced: {:.2f} kg CO2eq.\".format(CO2_emission_crushing_limestone))"
   ]
  },
  {
   "cell_type": "code",
   "execution_count": 39,
   "id": "a621c8d9-32da-4a0f-8491-03771c1069be",
   "metadata": {},
   "outputs": [
    {
     "name": "stdout",
     "output_type": "stream",
     "text": [
      "CO2 emission from transporting limestone per 1 tonne cement produced: 5.65 kg CO2eq.\n"
     ]
    }
   ],
   "source": [
    "# CO2 emission from transport\n",
    "# Limestone required / Truck loading capacity × Fuel consumption per truck per km × Transporting distance × CO2 emission per 1L diesel\n",
    "# Truck loading capacity varies case by case (value inputs here) #\n",
    "truck_loading = 18  # in tonne\n",
    "fuel_consumption_per_truck_100km = 30 # in l/100km\n",
    "# Transportation distance from quarrying site to processing unit\n",
    "distance_1 = 100 # in km, from mine to storage unit\n",
    "CO2_emission_diesel = 3 # in kg/l\n",
    "# Calculate the CO2 emission from transportation\n",
    "CO2_emission_transport_1 = float (limestone_required / truck_loading * (fuel_consumption_per_truck_100km / 100) * distance_1 * CO2_emission_diesel)\n",
    "print(\"CO2 emission from transporting limestone per 1 tonne cement produced: {:.2f} kg CO2eq.\". format(CO2_emission_transport_1))"
   ]
  },
  {
   "cell_type": "code",
   "execution_count": 41,
   "id": "d204b142-8fb5-4178-9c41-d2341f682e94",
   "metadata": {},
   "outputs": [
    {
     "name": "stdin",
     "output_type": "stream",
     "text": [
      "Enter amount of explosives used per 1 tonne limestone extracted (kg):  30\n"
     ]
    },
    {
     "name": "stdout",
     "output_type": "stream",
     "text": [
      "CO2 emission from explosives per 1 tonne cement produced: 3.39 kg CO2eq.\n"
     ]
    }
   ],
   "source": [
    "# Explosives emission\n",
    "# Amount of explosive used per 1 tonne limestone extracted × Limestone required for 1 tonne cement × Emission factor of explosive\n",
    "explosives_amount = float(input(\"Enter amount of explosives used per 1 tonne limestone extracted (kg): \"))\n",
    "emission_factor_explosives = 0.1\n",
    "CO2_emission_explosives = float(explosives_amount * limestone_required * emission_factor_explosives)\n",
    "print(\"CO2 emission from explosives per 1 tonne cement produced: {:.2f} kg CO2eq.\".format(CO2_emission_explosives))"
   ]
  },
  {
   "cell_type": "code",
   "execution_count": 45,
   "id": "29ebd556-50dd-4a3a-b656-563738a4b115",
   "metadata": {},
   "outputs": [
    {
     "name": "stdout",
     "output_type": "stream",
     "text": [
      "A1 emission, CO2 from raw material supply per 1 tonne cement produced: 9.22 kg CO2eq.\n"
     ]
    }
   ],
   "source": [
    "#sum A1 emission\n",
    "A1_emission = a1_emission(CO2_emission_transport_1,CO2_emission_explosives,CO2_emission_crushing_limestone)\n",
    "print(\"A1 emission, CO2 from raw material supply per 1 tonne cement produced: {:.2f} kg CO2eq.\".format(A1_emission))"
   ]
  },
  {
   "cell_type": "code",
   "execution_count": 53,
   "id": "3b05cb62-cdcc-49c5-8e39-3aae64e2efb1",
   "metadata": {},
   "outputs": [],
   "source": [
    "\n",
    "def a3_emission (roller_mill_blender, CO2_process, fuel_combustion, cooling_fan, conveyor):\n",
    "    return roller_mill_blender + CO2_process + fuel_combustion + cooling_fan + conveyor"
   ]
  },
  {
   "cell_type": "code",
   "execution_count": 27,
   "id": "5780515c-1723-4ef3-8334-8172cd26a92e",
   "metadata": {},
   "outputs": [
    {
     "name": "stdin",
     "output_type": "stream",
     "text": [
      "truck loading capacity (tonne):  18\n"
     ]
    },
    {
     "name": "stdout",
     "output_type": "stream",
     "text": [
      "A2 CO2 emission per 1 tonne cement produced: 16.96 kg CO2eq.\n"
     ]
    }
   ],
   "source": [
    "# A2 transport\n",
    "\n",
    "# Limestone required / Truck loading capacity × Fuel consumption per truck per km × Transporting distance × CO2 emission per 1L diesel\n",
    "\n",
    "# Truck loading capacity \n",
    "truck_loading = float(input(\"truck loading capacity (tonne): \"))\n",
    "fuel_consumption_per_truck_100km = 30 # in l/100km\n",
    "# Transportation distance from quarrying site to processing unit\n",
    "distance_2 = 300 # in km, from storage unit to processing plant\n",
    "CO2_emission_diesel = 3 # in kg/l\n",
    "# Calculate the CO2 emission from transportation\n",
    "CO2_emission_transport_2 = float (limestone_required / truck_loading * (fuel_consumption_per_truck_100km / 100) * distance_2 * CO2_emission_diesel)\n",
    "A2_emission = CO2_emission_transport_2\n",
    "print(\"A2 CO2 emission per 1 tonne cement produced: {:.2f} kg CO2eq.\". format(A2_emission))"
   ]
  },
  {
   "cell_type": "code",
   "execution_count": 49,
   "id": "ece1ef10-8e07-4c44-b30b-e5c7a9fa93db",
   "metadata": {},
   "outputs": [
    {
     "name": "stdout",
     "output_type": "stream",
     "text": [
      "CO2 emission in chemical reaction to produce 1 tonne cement: 447.80 kg.\n"
     ]
    }
   ],
   "source": [
    "# Roller mill blender operation\n",
    "# Time per blending 1 ton raw materials × raw materials required for 1 ton cement × Energy consumed to run roller mill blender × CO2 emission per 1KWh energy\n",
    "CO2_roller_mill_blender = 3 # in kg CO2eq\n",
    "\n",
    "# CO2/CaCO3 Stoichiometric Ratio\n",
    "CO2_CaCO3_ratio = 0.44\n",
    "CO2_chemical = CO2_CaCO3_ratio * CaCO3_required * 1000\n",
    "print(\"CO2 emission in chemical reaction to produce 1 tonne cement: {:.2f} kg.\". format(CO2_chemical))"
   ]
  },
  {
   "cell_type": "code",
   "execution_count": 87,
   "id": "d638c6a1-cfb2-4d87-af0b-849858caac54",
   "metadata": {},
   "outputs": [
    {
     "name": "stdout",
     "output_type": "stream",
     "text": [
      "168.85 kg\n",
      "A3 CO2 emission per 1 tonne cement produced: 750.80 kg CO2eq.\n"
     ]
    }
   ],
   "source": [
    "# Fuel combustion\n",
    "# Total heat ≈ sensible heat to raise solids + calcination heat + losses.\n",
    "# heat requirement in modern dry kilns is typically 3.0–3.4 GJ per tonne of clinker\n",
    "total_heat = 3000 #unit in MJ\n",
    "# fuel volume = total heat / fuel lower heating value\n",
    "natural_gas_LHV = 36.6 # unit in MJ/m3\n",
    "ng_volume = total_heat / natural_gas_LHV\n",
    "# ghg conversion factor is used to calculate emissions of different fuels\n",
    "ng_ghg = 2.06 #unit in kgCO2/m3\n",
    "CO2_ng = ng_volume * ng_ghg # in kgCO2eq\n",
    "print (\"{:.2f} kg\". format (CO2_ng))\n",
    "\n",
    "#cooling_fan\n",
    "CO2_cooling_fan = 0 # in kg CO2eq\n",
    "\n",
    "#conveyor\n",
    "CO2_conveyor = 0 # in kg CO2eq\n",
    "\n",
    "A3_emission = a3_emission (CO2_roller_mill_blender, CO2_chemical, CO2_fuel, CO2_cooling_fan, CO2_conveyor)\n",
    "print(\"A3 CO2 emission per 1 tonne cement produced: {:.2f} kg CO2eq.\". format(A3_emission))"
   ]
  },
  {
   "cell_type": "code",
   "execution_count": 89,
   "id": "29d6558c-a67b-487b-8832-0a14d0cc2a9f",
   "metadata": {},
   "outputs": [
    {
     "name": "stdout",
     "output_type": "stream",
     "text": [
      "    Emission (kg CO2)  share %\n",
      "A1               9.22      1.2\n",
      "A2              16.96      2.2\n",
      "A3             750.80     96.6\n",
      "S1             776.98    100.0\n"
     ]
    }
   ],
   "source": [
    "A1_A3_emission = A1_emission + A2_emission + A3_emission\n",
    "\n",
    "Emission_summary = pd.DataFrame({\"Emission (kg CO2)\":[A1_emission,A2_emission,A3_emission,A1_A3_emission]}, index=[\"A1\", \"A2\", \"A3\", \"S1\"])\n",
    "Emission_summary[\"Emission (kg CO2)\"] = Emission_summary[\"Emission (kg CO2)\"].round(2)\n",
    "\n",
    "Emission_summary[\"share %\"] = Emission_summary[\"Emission (kg CO2)\"]/A1_A3_emission*100\n",
    "Emission_summary[\"share %\"] = Emission_summary[\"share %\"].round(1)\n",
    "print(Emission_summary)"
   ]
  },
  {
   "cell_type": "code",
   "execution_count": 91,
   "id": "690fcd84-93d4-4f82-9aa7-f9843aa094b1",
   "metadata": {},
   "outputs": [
    {
     "name": "stdout",
     "output_type": "stream",
     "text": [
      "opc produces 776.98 kg CO2eq per tonne cement.\n"
     ]
    }
   ],
   "source": [
    "def carbon_calculator(A1_emission, A2_emission, A3_emission):\n",
    "    return A1_emission + A2_emission + A3_emission\n",
    "Total_carbon = carbon_calculator (A1_emission, A2_emission, A3_emission)\n",
    "print(f\"{cement_type} produces {Total_carbon:.2f} kg CO2eq per tonne cement.\")"
   ]
  },
  {
   "cell_type": "code",
   "execution_count": null,
   "id": "71ebddbb-4e9e-4fbe-9787-9fe8dcb8c05e",
   "metadata": {},
   "outputs": [],
   "source": []
  }
 ],
 "metadata": {
  "kernelspec": {
   "display_name": "Python [conda env:base] *",
   "language": "python",
   "name": "conda-base-py"
  },
  "language_info": {
   "codemirror_mode": {
    "name": "ipython",
    "version": 3
   },
   "file_extension": ".py",
   "mimetype": "text/x-python",
   "name": "python",
   "nbconvert_exporter": "python",
   "pygments_lexer": "ipython3",
   "version": "3.12.7"
  }
 },
 "nbformat": 4,
 "nbformat_minor": 5
}
