{
 "cells": [
  {
   "cell_type": "code",
   "execution_count": 1,
   "id": "fbd50af2-a955-4fc7-9850-54613b8a8593",
   "metadata": {},
   "outputs": [],
   "source": [
    "# Carbon Calculator"
   ]
  },
  {
   "cell_type": "code",
   "execution_count": 3,
   "id": "4eea60c8-a6c0-48cd-8ba0-37b084b19f66",
   "metadata": {},
   "outputs": [
    {
     "name": "stdin",
     "output_type": "stream",
     "text": [
      "Enter the cement type:  opc\n"
     ]
    }
   ],
   "source": [
    "# Confirm the cement type\n",
    "cement_type = input(\"Enter the cement type: \")"
   ]
  },
  {
   "cell_type": "code",
   "execution_count": 5,
   "id": "d3358442-2bdb-475a-a473-b64c9beb703e",
   "metadata": {},
   "outputs": [],
   "source": [
    "# a general formula for either fossil fuel emission or electricity energy mix emission\n",
    "def combustion_emission (fuel, emission_factor):\n",
    "    return\n",
    "\n",
    "def power_emission(energy_mix, emission_energy_mix):\n",
    "    return energy_mix * emission_energy_mix"
   ]
  },
  {
   "cell_type": "code",
   "execution_count": 7,
   "id": "6e717ec1-452d-41b7-a11a-c79059f068fc",
   "metadata": {},
   "outputs": [
    {
     "name": "stdin",
     "output_type": "stream",
     "text": [
      "Enter the clinker in cement (%):  95\n"
     ]
    },
    {
     "name": "stdout",
     "output_type": "stream",
     "text": [
      "CaO weights in clinker 63.25%.\n"
     ]
    },
    {
     "name": "stdin",
     "output_type": "stream",
     "text": [
      "Enter the mineral purity (%):  90\n"
     ]
    },
    {
     "name": "stdout",
     "output_type": "stream",
     "text": [
      "Limestone required to produce 1 tonne cement: 1.19 tonne.\n"
     ]
    }
   ],
   "source": [
    "# A1 emission: CO2 emission from raw material supply\n",
    "def a1_emission(extraction, explosives, crushing):\n",
    "    return extraction + explosives + crushing\n",
    "\n",
    "# Calculate limestone required for 1 tonne cement\n",
    "cement_unit_mass = 1  # (unit in tonne)\n",
    "clinker_in_cement = float(input(\"Enter the clinker in cement (%): \"))\n",
    "# clinker components wt. % vary case by case (value inputs here) #\n",
    "clinker_components = {\"tricalcium silicate 3CaO.SiO2\": 50, \"dicalcium silicate 2CaO.SiO2\": 25,\n",
    "                      \"tricalcium aluminate 3CaO.Al2O3\": 10, \"tetracalcium alumniorferrite 3CaO.Al2O3.Fe2O3\": 10,\n",
    "                      \"Gypsum\": 5\n",
    "                      }  # (unit %)\n",
    "CaO_in_clinker = float((clinker_components[\"tricalcium silicate 3CaO.SiO2\"] * (56*3/228)) +\n",
    "                       (clinker_components[\"dicalcium silicate 2CaO.SiO2\"] * (56*2/172)) +\n",
    "                       (clinker_components[\"tricalcium aluminate 3CaO.Al2O3\"] * (56*3/270)) +\n",
    "                       (clinker_components[\"tetracalcium alumniorferrite 3CaO.Al2O3.Fe2O3\"] * (56*3/429.64))\n",
    "                       )\n",
    "print(\"CaO weights in clinker {:.2%}.\". format(CaO_in_clinker/100))\n",
    "CaCO3_CaO_ratio = 1.785  # (stoichiometric ratio, as 100/56)\n",
    "CaCO3_required = cement_unit_mass * clinker_in_cement/100 * CaO_in_clinker/100 * CaCO3_CaO_ratio # unit in tonne\n",
    "mineral_purity = float(input(\"Enter the mineral purity (%): \"))\n",
    "limestone_required = float(CaCO3_required / (mineral_purity/100))\n",
    "print(\"Limestone required to produce 1 tonne cement: {:.2f} tonne.\". format(limestone_required))"
   ]
  },
  {
   "cell_type": "code",
   "execution_count": 9,
   "id": "249565e1-497b-449f-9479-5427fd899ecd",
   "metadata": {},
   "outputs": [
    {
     "name": "stdin",
     "output_type": "stream",
     "text": [
      "Enter the crusher capacity (t/hr):  20\n",
      "Enter the crusher power (KW):  500\n"
     ]
    },
    {
     "name": "stdout",
     "output_type": "stream",
     "text": [
      "Total energy to crush limestone per 1 tonne cement produced: 29.795 KWh.\n"
     ]
    }
   ],
   "source": [
    "# Calculate energy consumed to run crusher for 1 tonne cement\n",
    "crusher_capacity = float(input(\"Enter the crusher capacity (t/hr): \"))\n",
    "time_crushing_1_tonne = float(1/crusher_capacity)  # (unit in hrs)\n",
    "crusher_power = float(input(\"Enter the crusher power (KW): \"))\n",
    "energy_crushing_1_tonne = time_crushing_1_tonne * crusher_power  # (unit in KWh)\n",
    "total_energy_crushing = limestone_required * energy_crushing_1_tonne\n",
    "print(\"Total energy to crush limestone per 1 tonne cement produced: {:.3f} KWh.\".format(total_energy_crushing))"
   ]
  },
  {
   "cell_type": "code",
   "execution_count": 11,
   "id": "2c552b41-5cbc-4000-8aea-ad26b3040432",
   "metadata": {},
   "outputs": [
    {
     "name": "stdout",
     "output_type": "stream",
     "text": [
      "Average CO2 emission from UK grid mix: 0.22170 kg CO2eq./KWh.\n",
      "CO2 emission from crushing limestone per 1 tonne cement produced: 6.61 kg CO2eq.\n"
     ]
    }
   ],
   "source": [
    "# Calculate CO2 emission for crushing limestone per 1 tonne cement produced\n",
    "# UK grid mix # CO2 emission from energy mix # (value inputs here)\n",
    "# Source: https://www.gov.uk/government/publications/fuel-mix-disclosure-data-table/fuel-mix-disclosure-data-table#fn:1 #\n",
    "UK_grid_mix = {\"Coal\": 6.3,\n",
    "               \"Natural Gas\": 35,\n",
    "               \"Nuclear\": 12.7,\n",
    "               \"Renewables\": 43.2,\n",
    "               \"other\": 2.8\n",
    "               }  # (unit %)\n",
    "CO2_emission_from_energy_mix = {\"Coal\": 1.046,\n",
    "                                \"Natural Gas\": 0.375,\n",
    "                                \"Nuclear\": 0,\n",
    "                                \"Renewables\": 0,\n",
    "                                \"other\": 0.877\n",
    "                                } # (unit in kg CO2eq./KWh)\n",
    "# Average CO2 emission from UK grid mix = Grid mix × CO2 emission from energy mix\n",
    "average_CO2_emission_UK_grid_mix = sum((UK_grid_mix[key]/100) * CO2_emission_from_energy_mix[key] for key in UK_grid_mix)  # CO2 emission per 1KWh energy\n",
    "print(\"Average CO2 emission from UK grid mix: {:.5f} kg CO2eq./KWh.\".format(average_CO2_emission_UK_grid_mix))\n",
    "# Calculate CO2 emission from crushing limestone\n",
    "CO2_emission_crushing_limestone = average_CO2_emission_UK_grid_mix * total_energy_crushing\n",
    "print(\"CO2 emission from crushing limestone per 1 tonne cement produced: {:.2f} kg CO2eq.\".format(CO2_emission_crushing_limestone))"
   ]
  },
  {
   "cell_type": "code",
   "execution_count": 13,
   "id": "a621c8d9-32da-4a0f-8491-03771c1069be",
   "metadata": {},
   "outputs": [
    {
     "name": "stdout",
     "output_type": "stream",
     "text": [
      "CO2 emission from transporting limestone per 1 tonne cement produced: 2.98 kg CO2eq.\n"
     ]
    }
   ],
   "source": [
    "# CO2 emission from transport\n",
    "# Limestone required / Truck loading capacity × Fuel consumption per truck per km × Transporting distance × CO2 emission per 1L diesel\n",
    "# Truck loading capacity varies case by case (value inputs here) #\n",
    "truck_loading = 18  # (unit in tonne)\n",
    "fUel_consumption_per_truck_100km = 30 # unit in l/100km\n",
    "# Transportation distance from quarrying site to processing unit\n",
    "distance = 50 # unit in km\n",
    "CO2_emission_diesel = 3 # unit in kg/l\n",
    "# Calculate the CO2 emission from transportation\n",
    "CO2_emission_transport = float (limestone_required / truck_loading * (fUel_consumption_per_truck_100km / 100) * distance * CO2_emission_diesel)\n",
    "print(\"CO2 emission from transporting limestone per 1 tonne cement produced: {:.2f} kg CO2eq.\". format(CO2_emission_transport))"
   ]
  },
  {
   "cell_type": "code",
   "execution_count": 15,
   "id": "d204b142-8fb5-4178-9c41-d2341f682e94",
   "metadata": {},
   "outputs": [
    {
     "name": "stdin",
     "output_type": "stream",
     "text": [
      "Enter amount of explosives used per 1 tonne limestone extracted (kg):  100\n"
     ]
    },
    {
     "name": "stdout",
     "output_type": "stream",
     "text": [
      "CO2 emission from explosives per 1 tonne cement produced: 11.92 kg CO2eq.\n"
     ]
    }
   ],
   "source": [
    "# Explosives emission\n",
    "# Amount of explosive used per 1 tonne limestone extracted × Limestone required for 1 ton cement × Emission factor of explosive\n",
    "explosives_amount = float(input(\"Enter amount of explosives used per 1 tonne limestone extracted (kg): \"))\n",
    "emission_factor_explosives = 0.1\n",
    "CO2_emission_explosives = float(explosives_amount * limestone_required * emission_factor_explosives)\n",
    "print(\"CO2 emission from explosives per 1 tonne cement produced: {:.2f} kg CO2eq.\".format(CO2_emission_explosives))"
   ]
  },
  {
   "cell_type": "code",
   "execution_count": 17,
   "id": "29ebd556-50dd-4a3a-b656-563738a4b115",
   "metadata": {},
   "outputs": [],
   "source": [
    "#sum A1 emission\n",
    "A1_emission = a1_emission(CO2_emission_transport,CO2_emission_explosives,CO2_emission_crushing_limestone)\n",
    "print(\"A1 emission, CO2 from raw material supply per 1 tonne cement produced: {:.2f} kg CO2eq.\".format(A1_emission))"
   ]
  },
  {
   "cell_type": "code",
   "execution_count": 19,
   "id": "3b05cb62-cdcc-49c5-8e39-3aae64e2efb1",
   "metadata": {},
   "outputs": [],
   "source": [
    "def a2_emission (transport):\n",
    "    return transport\n",
    "\n",
    "def a3_emission (roller_mill_blender, CO2_process, fuel_combustion, cooling_fan, conveyor):\n",
    "    return roller_mill_blender + CO2_process + fuel_combustion + cooling_fan + conveyor"
   ]
  },
  {
   "cell_type": "code",
   "execution_count": 21,
   "id": "ece1ef10-8e07-4c44-b30b-e5c7a9fa93db",
   "metadata": {},
   "outputs": [
    {
     "name": "stdout",
     "output_type": "stream",
     "text": [
      "CO2 emission in chemical reaction to produce 1 tonne cement: 471.95 kg.\n"
     ]
    }
   ],
   "source": [
    "# Roller mill blender operation\n",
    "# Time per blending 1 ton raw materials × raw materials required for 1 ton cement × Energy consumed to run roller mill blender × CO2 emission per 1KWh energy\n",
    "\n",
    "\n",
    "# CO2/CaCO3 Stoichiometric Ratio\n",
    "CO2_CaCO3_ratio = 0.44\n",
    "CO2_chemical = CO2_CaCO3_ratio * CaCO3_required * 1000\n",
    "print(\"CO2 emission in chemical reaction to produce 1 tonne cement: {:.2f} kg.\". format(CO2_chemical))"
   ]
  },
  {
   "cell_type": "code",
   "execution_count": 23,
   "id": "690fcd84-93d4-4f82-9aa7-f9843aa094b1",
   "metadata": {},
   "outputs": [
    {
     "name": "stdout",
     "output_type": "stream",
     "text": [
      "opc produces .\n"
     ]
    }
   ],
   "source": [
    "def carbon_calculator(A1_emission, A2_emission, A3_emission):\n",
    "    return A1_emission + A2_emission + A3_emission\n",
    "print(\"{} produces .\". format(cement_type))"
   ]
  },
  {
   "cell_type": "code",
   "execution_count": null,
   "id": "29d6558c-a67b-487b-8832-0a14d0cc2a9f",
   "metadata": {},
   "outputs": [],
   "source": []
  }
 ],
 "metadata": {
  "kernelspec": {
   "display_name": "Python [conda env:base] *",
   "language": "python",
   "name": "conda-base-py"
  },
  "language_info": {
   "codemirror_mode": {
    "name": "ipython",
    "version": 3
   },
   "file_extension": ".py",
   "mimetype": "text/x-python",
   "name": "python",
   "nbconvert_exporter": "python",
   "pygments_lexer": "ipython3",
   "version": "3.12.7"
  }
 },
 "nbformat": 4,
 "nbformat_minor": 5
}
